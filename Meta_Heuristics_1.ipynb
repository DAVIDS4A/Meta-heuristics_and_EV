{
 "cells": [
  {
   "cell_type": "code",
   "execution_count": 1,
   "metadata": {},
   "outputs": [],
   "source": [
    "import math"
   ]
  },
  {
   "cell_type": "code",
   "execution_count": 2,
   "metadata": {},
   "outputs": [],
   "source": [
    "#distance function\n",
    "def distance_btn_two_cities(A, B):\n",
    "    d=math.sqrt((int(A[1])-int(B[1]))**2+((int(A[2])-int(B[2]))**2))\n",
    "    return d"
   ]
  },
  {
   "cell_type": "code",
   "execution_count": 3,
   "metadata": {},
   "outputs": [
    {
     "name": "stdout",
     "output_type": "stream",
     "text": [
      "[['1', '8375', '4700'], ['2', '8775', '4700'], ['3', '8375', '4900'], ['4', '8175', '4900'], ['5', '8775', '4900'], ['6', '8575', '4900'], ['7', '8775', '5400'], ['8', '8375', '5450'], ['9', '8775', '5600'], ['10', '8575', '5600'], ['11', '8375', '5650'], ['12', '8175', '5650'], ['13', '8375', '6200'], ['14', '8775', '6200'], ['15', '8375', '6400'], ['16', '8175', '6400'], ['17', '8775', '6400'], ['18', '8575', '6400'], ['19', '8375', '7000'], ['20', '8775', '7000'], ['21', '8375', '7200'], ['22', '8175', '7200'], ['23', '8775', '7200'], ['24', '8575', '7200'], ['25', '8375', '7800'], ['26', '8775', '7800'], ['27', '8375', '8000'], ['28', '8175', '8000'], ['29', '8775', '8000'], ['30', '8575', '8000'], ['31', '8375', '8700'], ['32', '8775', '8700'], ['33', '8375', '8900'], ['34', '8175', '8900'], ['35', '8775', '8900'], ['36', '8575', '8900'], ['37', '8375', '9600'], ['38', '8775', '9600'], ['39', '8375', '9800'], ['40', '8175', '9800'], ['41', '8775', '9800'], ['42', '8575', '9800'], ['43', '8375', '10500'], ['44', '8775', '10450'], ['45', '8375', '10700'], ['46', '8175', '10700'], ['47', '8775', '10650'], ['48', '8575', '10650'], ['49', '8375', '11300'], ['50', '8775', '11300'], ['51', '8375', '11500'], ['52', '8175', '11500'], ['53', '8775', '11500'], ['54', '8575', '11500'], ['55', '15825', '11500'], ['56', '15825', '10700'], ['57', '15825', '9800'], ['58', '15825', '8900'], ['59', '15825', '8000'], ['60', '15825', '7200'], ['61', '15825', '6400'], ['62', '15825', '5650'], ['63', '15825', '4900'], ['64', '16025', '4700'], ['65', '16425', '4700'], ['66', '16025', '4900'], ['67', '16225', '4900'], ['68', '16425', '4900'], ['69', '16425', '5400'], ['70', '16025', '5450'], ['71', '16225', '5600'], ['72', '16425', '5600'], ['73', '16025', '5650'], ['74', '16025', '6200'], ['75', '16425', '6200'], ['76', '16025', '6400'], ['77', '16225', '6400'], ['78', '16425', '6400'], ['79', '16025', '7000'], ['80', '16425', '7000'], ['81', '16025', '7200'], ['82', '16225', '7200'], ['83', '16425', '7200'], ['84', '16025', '7800'], ['85', '16425', '7800'], ['86', '16025', '8000'], ['87', '16225', '8000'], ['88', '16425', '8000'], ['89', '16025', '8700'], ['90', '16425', '8700'], ['91', '16025', '8900'], ['92', '16225', '8900'], ['93', '16425', '8900'], ['94', '16025', '9600'], ['95', '16425', '9600'], ['96', '16025', '9800'], ['97', '16225', '9800'], ['98', '16425', '9800'], ['99', '16025', '10500'], ['100', '16425', '10450'], ['101', '16025', '10700'], ['102', '16225', '10650'], ['103', '16425', '10650'], ['104', '16025', '11300'], ['105', '16425', '11300'], ['106', '16025', '11500'], ['107', '16225', '11500']]\n"
     ]
    }
   ],
   "source": [
    "with open(\"cities.txt\", 'r') as file:\n",
    "    cities=[line.split() for line in file.read().splitlines()]\n",
    "print(cities)"
   ]
  },
  {
   "cell_type": "code",
   "execution_count": 4,
   "metadata": {},
   "outputs": [],
   "source": [
    "def cost_function(solution):\n",
    "    cost = 0\n",
    "    num_cities = len(cities)\n",
    "\n",
    "    for i in range(len(solution) - 1):\n",
    "        city_A = cities[solution[i]]\n",
    "        city_B = cities[solution[i + 1]]\n",
    "        cost += distance_btn_two_cities(city_A, city_B)\n",
    "\n",
    "    # last city back to the starting city\n",
    "    cost += distance_btn_two_cities(cities[solution[-1]], cities[solution[0]])\n",
    "\n",
    "    return cost\n"
   ]
  },
  {
   "cell_type": "code",
   "execution_count": 5,
   "metadata": {},
   "outputs": [
    {
     "name": "stdout",
     "output_type": "stream",
     "text": [
      "894.4271909999159\n"
     ]
    }
   ],
   "source": [
    "test_cost=cost_function([1,2])\n",
    "print(test_cost)"
   ]
  },
  {
   "cell_type": "markdown",
   "metadata": {},
   "source": [
    "*NEAREST NEIGHBOUR*"
   ]
  },
  {
   "cell_type": "code",
   "execution_count": 6,
   "metadata": {},
   "outputs": [],
   "source": [
    "#Minimizing the cost \n",
    "\n",
    "def optimum_solution(cities):\n",
    "    number_of_cities=len(cities)\n",
    "    unvisited=[i for i in range(1,len(cities))]\n",
    "    path=[0]\n",
    "    \n",
    "    while unvisited:\n",
    "        current_city=path[-1]\n",
    "        nearest_city=min(unvisited, key=lambda city: distance_btn_two_cities(cities[current_city],cities[city]))\n",
    "        path.append(nearest_city)\n",
    "        unvisited.remove(nearest_city)\n",
    "        \n",
    "    return path\n",
    "        \n",
    "    "
   ]
  },
  {
   "cell_type": "code",
   "execution_count": 7,
   "metadata": {},
   "outputs": [
    {
     "name": "stdout",
     "output_type": "stream",
     "text": [
      "[0, 2, 3, 5, 4, 1, 6, 8, 9, 10, 7, 11, 12, 14, 15, 17, 16, 13, 19, 22, 23, 20, 18, 21, 24, 26, 27, 29, 28, 25, 31, 34, 35, 32, 30, 33, 36, 38, 39, 41, 40, 37, 43, 46, 47, 44, 42, 45, 48, 50, 51, 53, 52, 49, 54, 105, 103, 106, 104, 102, 99, 101, 100, 55, 98, 95, 56, 93, 96, 97, 94, 92, 89, 91, 90, 57, 88, 85, 58, 83, 86, 87, 84, 82, 79, 81, 80, 59, 78, 75, 60, 73, 76, 77, 74, 71, 68, 70, 72, 61, 69, 65, 62, 63, 66, 67, 64]\n"
     ]
    }
   ],
   "source": [
    "optimum_path=optimum_solution(cities)\n",
    "print(optimum_path)"
   ]
  },
  {
   "cell_type": "code",
   "execution_count": 8,
   "metadata": {},
   "outputs": [
    {
     "name": "stdout",
     "output_type": "stream",
     "text": [
      "46678.15415698672\n"
     ]
    }
   ],
   "source": [
    "total_cost_of_optimum_solution= cost_function(optimum_path)\n",
    "print(total_cost_of_optimum_solution)"
   ]
  },
  {
   "cell_type": "markdown",
   "metadata": {},
   "source": [
    "*SIMULATED ANNEALING*"
   ]
  },
  {
   "cell_type": "markdown",
   "metadata": {},
   "source": [
    "def swap(path):\n",
    "    new_path=optimum_path.copy()\n",
    "    i,j=math.random(len(new_path),2)\n",
    "    new_path[j],new_path[i]=new_path[i],new_path[j]\n",
    "    return new_path"
   ]
  },
  {
   "cell_type": "markdown",
   "metadata": {},
   "source": [
    "def calculate_probabilities(new_distance, old_distance, temperature):\n",
    "    if new_distance>old_distance:\n",
    "        probability=math.exp((old_distance-new_distance)/temperature)\n",
    "    return probability"
   ]
  },
  {
   "cell_type": "code",
   "execution_count": 9,
   "metadata": {},
   "outputs": [],
   "source": [
    "cities_data=cities"
   ]
  },
  {
   "cell_type": "code",
   "execution_count": 10,
   "metadata": {},
   "outputs": [],
   "source": [
    "import math\n",
    "\n",
    "def distance(city1, city2):\n",
    "    x1, y1 = map(int, city1[1:3])\n",
    "    x2, y2 = map(int, city2[1:3])\n",
    "    return math.sqrt((x2 - x1)**2 + (y2 - y1)**2)\n"
   ]
  },
  {
   "cell_type": "code",
   "execution_count": 11,
   "metadata": {},
   "outputs": [],
   "source": [
    "import random\n",
    "\n",
    "def initial_solution(cities):\n",
    "    return random.sample(cities, len(cities))"
   ]
  },
  {
   "cell_type": "code",
   "execution_count": 12,
   "metadata": {},
   "outputs": [],
   "source": [
    "import math\n",
    "def calculate_total_distance(solution):\n",
    "    total_distance = 0\n",
    "    for i in range(len(solution) - 1):\n",
    "        total_distance += distance(solution[i], solution[i + 1])\n",
    "    total_distance += distance(solution[-1], solution[0])  # Return to the starting city\n",
    "    return total_distance\n",
    "\n",
    "def generate_neighboring_solution(solution):\n",
    "    new_solution = solution.copy()\n",
    "    \n",
    "    index1,index2= sorted(random.sample(range(len(new_solution)),2))\n",
    "    new_solution[index1],new_solution[index2]=new_solution[index2],new_solution[index1]\n",
    "    return new_solution"
   ]
  },
  {
   "cell_type": "code",
   "execution_count": 13,
   "metadata": {},
   "outputs": [],
   "source": [
    "def simulated_annealing(cities, initial_temp, cooling_rate, num_iterations):\n",
    "    current_solution = initial_solution(cities)\n",
    "    current_cost = calculate_total_distance(current_solution)\n",
    "    best_solution = current_solution.copy()\n",
    "    best_cost = current_cost\n",
    "\n",
    "    temp = initial_temp\n",
    "\n",
    "    for i in range(num_iterations):\n",
    "        # Generate a neighboring solution by swapping cities\n",
    "        new_solution = generate_neighboring_solution(current_solution)\n",
    "        new_cost = calculate_total_distance(new_solution)\n",
    "\n",
    "        # Calculate change in cost\n",
    "        cost_diff = new_cost - current_cost\n",
    "\n",
    "        # Decide whether to accept the new solution\n",
    "        if cost_diff < 0 or random.random() < math.exp(-cost_diff / temp):\n",
    "            current_solution = new_solution\n",
    "            current_cost = new_cost\n",
    "\n",
    "            # Update the best solution if needed\n",
    "            if new_cost < best_cost:\n",
    "                best_solution = new_solution\n",
    "                best_cost = new_cost\n",
    "\n",
    "        # Cool down the temperature\n",
    "        temp *= cooling_rate\n",
    "\n",
    "    return best_solution, best_cost"
   ]
  },
  {
   "cell_type": "code",
   "execution_count": 14,
   "metadata": {},
   "outputs": [
    {
     "name": "stdout",
     "output_type": "stream",
     "text": [
      "Best Route: [['79', '16025', '7000'], ['60', '15825', '7200'], ['81', '16025', '7200'], ['82', '16225', '7200'], ['83', '16425', '7200'], ['69', '16425', '5400'], ['68', '16425', '4900'], ['65', '16425', '4700'], ['67', '16225', '4900'], ['66', '16025', '4900'], ['64', '16025', '4700'], ['63', '15825', '4900'], ['23', '8775', '7200'], ['24', '8575', '7200'], ['20', '8775', '7000'], ['16', '8175', '6400'], ['15', '8375', '6400'], ['28', '8175', '8000'], ['33', '8375', '8900'], ['36', '8575', '8900'], ['58', '15825', '8900'], ['91', '16025', '8900'], ['59', '15825', '8000'], ['86', '16025', '8000'], ['80', '16425', '7000'], ['76', '16025', '6400'], ['61', '15825', '6400'], ['44', '8775', '10450'], ['43', '8375', '10500'], ['45', '8375', '10700'], ['46', '8175', '10700'], ['49', '8375', '11300'], ['52', '8175', '11500'], ['51', '8375', '11500'], ['54', '8575', '11500'], ['56', '15825', '10700'], ['99', '16025', '10500'], ['101', '16025', '10700'], ['104', '16025', '11300'], ['107', '16225', '11500'], ['106', '16025', '11500'], ['29', '8775', '8000'], ['26', '8775', '7800'], ['22', '8175', '7200'], ['25', '8375', '7800'], ['30', '8575', '8000'], ['34', '8175', '8900'], ['39', '8375', '9800'], ['48', '8575', '10650'], ['47', '8775', '10650'], ['38', '8775', '9600'], ['13', '8375', '6200'], ['12', '8175', '5650'], ['7', '8775', '5400'], ['9', '8775', '5600'], ['100', '16425', '10450'], ['103', '16425', '10650'], ['102', '16225', '10650'], ['57', '15825', '9800'], ['11', '8375', '5650'], ['8', '8375', '5450'], ['10', '8575', '5600'], ['6', '8575', '4900'], ['5', '8775', '4900'], ['75', '16425', '6200'], ['78', '16425', '6400'], ['77', '16225', '6400'], ['74', '16025', '6200'], ['2', '8775', '4700'], ['1', '8375', '4700'], ['4', '8175', '4900'], ['3', '8375', '4900'], ['19', '8375', '7000'], ['21', '8375', '7200'], ['27', '8375', '8000'], ['31', '8375', '8700'], ['32', '8775', '8700'], ['84', '16025', '7800'], ['85', '16425', '7800'], ['88', '16425', '8000'], ['87', '16225', '8000'], ['35', '8775', '8900'], ['41', '8775', '9800'], ['42', '8575', '9800'], ['40', '8175', '9800'], ['37', '8375', '9600'], ['18', '8575', '6400'], ['17', '8775', '6400'], ['14', '8775', '6200'], ['89', '16025', '8700'], ['90', '16425', '8700'], ['92', '16225', '8900'], ['94', '16025', '9600'], ['97', '16225', '9800'], ['95', '16425', '9600'], ['98', '16425', '9800'], ['96', '16025', '9800'], ['50', '8775', '11300'], ['53', '8775', '11500'], ['55', '15825', '11500'], ['105', '16425', '11300'], ['93', '16425', '8900'], ['72', '16425', '5600'], ['70', '16025', '5450'], ['71', '16225', '5600'], ['73', '16025', '5650'], ['62', '15825', '5650']]\n",
      "Best Distance: 160494.42357397222\n"
     ]
    }
   ],
   "source": [
    "# Run simulated annealing\n",
    "best_route, best_distance = simulated_annealing(cities_data, initial_temp=1000, cooling_rate=0.995, num_iterations=10000)\n",
    "\n",
    "print(\"Best Route:\", best_route)\n",
    "print(\"Best Distance:\", best_distance)"
   ]
  },
  {
   "cell_type": "markdown",
   "metadata": {},
   "source": [
    "*TABU SEARCH*"
   ]
  },
  {
   "cell_type": "code",
   "execution_count": 54,
   "metadata": {},
   "outputs": [
    {
     "name": "stdout",
     "output_type": "stream",
     "text": [
      "Best Route: [['60', '15825', '7200'], ['83', '16425', '7200'], ['85', '16425', '7800'], ['81', '16025', '7200'], ['79', '16025', '7000'], ['75', '16425', '6200'], ['78', '16425', '6400'], ['77', '16225', '6400'], ['61', '15825', '6400'], ['2', '8775', '4700'], ['5', '8775', '4900'], ['94', '16025', '9600'], ['99', '16025', '10500'], ['100', '16425', '10450'], ['104', '16025', '11300'], ['107', '16225', '11500'], ['106', '16025', '11500'], ['55', '15825', '11500'], ['105', '16425', '11300'], ['102', '16225', '10650'], ['103', '16425', '10650'], ['101', '16025', '10700'], ['56', '15825', '10700'], ['37', '8375', '9600'], ['39', '8375', '9800'], ['43', '8375', '10500'], ['46', '8175', '10700'], ['42', '8575', '9800'], ['38', '8775', '9600'], ['35', '8775', '8900'], ['32', '8775', '8700'], ['33', '8375', '8900'], ['52', '8175', '11500'], ['49', '8375', '11300'], ['45', '8375', '10700'], ['50', '8775', '11300'], ['53', '8775', '11500'], ['54', '8575', '11500'], ['51', '8375', '11500'], ['40', '8175', '9800'], ['34', '8175', '8900'], ['27', '8375', '8000'], ['25', '8375', '7800'], ['22', '8175', '7200'], ['19', '8375', '7000'], ['20', '8775', '7000'], ['23', '8775', '7200'], ['24', '8575', '7200'], ['28', '8175', '8000'], ['36', '8575', '8900'], ['41', '8775', '9800'], ['26', '8775', '7800'], ['16', '8175', '6400'], ['4', '8175', '4900'], ['1', '8375', '4700'], ['3', '8375', '4900'], ['6', '8575', '4900'], ['7', '8775', '5400'], ['30', '8575', '8000'], ['31', '8375', '8700'], ['48', '8575', '10650'], ['47', '8775', '10650'], ['44', '8775', '10450'], ['57', '15825', '9800'], ['96', '16025', '9800'], ['97', '16225', '9800'], ['98', '16425', '9800'], ['95', '16425', '9600'], ['91', '16025', '8900'], ['92', '16225', '8900'], ['93', '16425', '8900'], ['90', '16425', '8700'], ['18', '8575', '6400'], ['14', '8775', '6200'], ['15', '8375', '6400'], ['21', '8375', '7200'], ['29', '8775', '8000'], ['62', '15825', '5650'], ['71', '16225', '5600'], ['69', '16425', '5400'], ['68', '16425', '4900'], ['65', '16425', '4700'], ['64', '16025', '4700'], ['67', '16225', '4900'], ['73', '16025', '5650'], ['59', '15825', '8000'], ['89', '16025', '8700'], ['58', '15825', '8900'], ['86', '16025', '8000'], ['84', '16025', '7800'], ['76', '16025', '6400'], ['72', '16425', '5600'], ['80', '16425', '7000'], ['82', '16225', '7200'], ['88', '16425', '8000'], ['87', '16225', '8000'], ['74', '16025', '6200'], ['70', '16025', '5450'], ['66', '16025', '4900'], ['63', '15825', '4900'], ['9', '8775', '5600'], ['10', '8575', '5600'], ['8', '8375', '5450'], ['11', '8375', '5650'], ['12', '8175', '5650'], ['13', '8375', '6200'], ['17', '8775', '6400']]\n",
      "Best Distance: 120313.26243532858\n"
     ]
    }
   ],
   "source": [
    "import random\n",
    "import math\n",
    "\n",
    "# Function to calculate distance between two cities\n",
    "def distance(city1, city2):\n",
    "    x1, y1 = map(int, city1[1:3])\n",
    "    x2, y2 = map(int, city2[1:3])\n",
    "    return math.sqrt((x2 - x1)**2 + (y2 - y1)**2)\n",
    "\n",
    "# Function to calculate total distance of a route\n",
    "def calculate_total_distance(route):\n",
    "    total_distance = 0\n",
    "    for i in range(len(route) - 1):\n",
    "        total_distance += distance(route[i], route[i + 1])\n",
    "    total_distance += distance(route[-1], route[0])  # Return to the starting city\n",
    "    return total_distance\n",
    "\n",
    "# Function to generate initial solution\n",
    "def initial_solution(cities):\n",
    "    return random.sample(cities, len(cities))\n",
    "\n",
    "# Function to generate neighboring solutions with tabu considerations\n",
    "def generate_neighboring_solution(current_solution, tabu_list):\n",
    "    \n",
    "    new_solution = current_solution.copy()\n",
    "    \n",
    "    while True:\n",
    "        index1,index2= sorted(random.sample(range(len(new_solution)),2))\n",
    "        \n",
    "        if(index1,index2) not in tabu_list:\n",
    "            new_solution[index1],new_solution[index2]=new_solution[index2],new_solution[index1]\n",
    "            \n",
    "            if new_solution not in tabu_list:\n",
    "                break\n",
    "\n",
    "            \n",
    "    return new_solution\n",
    "\n",
    "# Tabu Search algorithm\n",
    "def tabu_search(cities, max_iterations, tabu_list_size):\n",
    "    current_solution = initial_solution(cities)\n",
    "    best_solution = current_solution.copy()\n",
    "    current_cost = calculate_total_distance(current_solution)\n",
    "    best_cost = current_cost\n",
    "\n",
    "    tabu_list = []  # Initialize tabu list\n",
    "\n",
    "    iterations = 0\n",
    "    while iterations < max_iterations:\n",
    "        neighbors = []  # Store neighboring solutions\n",
    "\n",
    "        # Generate neighboring solutions and consider tabu status\n",
    "        for _ in range(neighborhood_size): \n",
    "            neighbor = generate_neighboring_solution(current_solution, tabu_list)\n",
    "            neighbors.append(neighbor)\n",
    "\n",
    "        # Choose the best neighboring solution\n",
    "        next_solution = min(neighbors, key=lambda x: calculate_total_distance(x))\n",
    "        next_cost = calculate_total_distance(next_solution)\n",
    "\n",
    "        # Update current solution and best solution if necessary\n",
    "        if next_cost < current_cost:\n",
    "            current_solution = next_solution\n",
    "            current_cost = next_cost\n",
    "\n",
    "            if next_cost < best_cost:\n",
    "                best_solution = next_solution\n",
    "                best_cost = next_cost\n",
    "\n",
    "        # Update tabu list\n",
    "        tabu_list.append(next_solution)\n",
    "        if len(tabu_list) > tabu_list_size:\n",
    "            tabu_list.pop(0)  # Remove the oldest solution from tabu list\n",
    "\n",
    "        iterations += 1\n",
    "\n",
    "    return best_solution, best_cost\n",
    "\n",
    "#Trial\n",
    "cities_data = cities\n",
    "\n",
    "# Parameters\n",
    "max_iterations = 1000\n",
    "tabu_list_size = 20\n",
    "neighborhood_size = 10\n",
    "\n",
    "best_route, best_distance = tabu_search(cities_data, max_iterations, tabu_list_size)\n",
    "\n",
    "print(\"Best Route:\", best_route)\n",
    "print(\"Best Distance:\", best_distance)\n"
   ]
  },
  {
   "cell_type": "code",
   "execution_count": null,
   "metadata": {},
   "outputs": [],
   "source": []
  }
 ],
 "metadata": {
  "kernelspec": {
   "display_name": "Python 3",
   "language": "python",
   "name": "python3"
  },
  "language_info": {
   "codemirror_mode": {
    "name": "ipython",
    "version": 3
   },
   "file_extension": ".py",
   "mimetype": "text/x-python",
   "name": "python",
   "nbconvert_exporter": "python",
   "pygments_lexer": "ipython3",
   "version": "3.7.9"
  }
 },
 "nbformat": 4,
 "nbformat_minor": 4
}
